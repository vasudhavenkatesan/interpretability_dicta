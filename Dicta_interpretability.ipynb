{
  "nbformat": 4,
  "nbformat_minor": 0,
  "metadata": {
    "colab": {
      "provenance": [],
      "authorship_tag": "ABX9TyOPHBZMUz+uFj/HiNTg9Ha5",
      "include_colab_link": true
    },
    "kernelspec": {
      "name": "python3",
      "display_name": "Python 3"
    },
    "language_info": {
      "name": "python"
    }
  },
  "cells": [
    {
      "cell_type": "markdown",
      "metadata": {
        "id": "view-in-github",
        "colab_type": "text"
      },
      "source": [
        "<a href=\"https://colab.research.google.com/github/vasudhavenkatesan/interpretability_dicta/blob/main/Dicta_interpretability.ipynb\" target=\"_parent\"><img src=\"https://colab.research.google.com/assets/colab-badge.svg\" alt=\"Open In Colab\"/></a>"
      ]
    },
    {
      "cell_type": "code",
      "source": [],
      "metadata": {
        "id": "PkabyxN6GmOy"
      },
      "execution_count": null,
      "outputs": []
    },
    {
      "cell_type": "markdown",
      "source": [
        "Setting up an environment -- Pretrained models\n",
        "\n",
        "\n",
        "1.  [ Satlas](https://github.com/allenai/satlaspretrain_models)  - Produces feature maps based on pretrained models which can then be finetuned based on the application\n",
        "2. [samgeo](https://samgeo.gishub.org/) -\n",
        "3. [SOLO](https://github.com/WXinlong/SOLO)"
      ],
      "metadata": {
        "id": "djAq-wFR740C"
      }
    },
    {
      "cell_type": "code",
      "source": [
        "pip install satlaspretrain-models"
      ],
      "metadata": {
        "collapsed": true,
        "id": "FaqIzUWV74Bk"
      },
      "execution_count": null,
      "outputs": []
    },
    {
      "cell_type": "code",
      "source": [
        "pip install segment-geospatial"
      ],
      "metadata": {
        "collapsed": true,
        "id": "Z1jPH0nu-QLV"
      },
      "execution_count": null,
      "outputs": []
    },
    {
      "cell_type": "markdown",
      "source": [
        "Load dataset from Sentinel2"
      ],
      "metadata": {
        "id": "RyLSd3BRGq4y"
      }
    },
    {
      "cell_type": "code",
      "source": [],
      "metadata": {
        "id": "w83CV9wSGqjH"
      },
      "execution_count": null,
      "outputs": []
    },
    {
      "cell_type": "code",
      "execution_count": null,
      "metadata": {
        "id": "7sUf_C9n4Q05"
      },
      "outputs": [],
      "source": [
        "Evaluate Satlast model"
      ]
    },
    {
      "cell_type": "code",
      "source": [
        "import leafmap\n",
        "from samgeo import tms_to_geotiff\n",
        "from samgeo.text_sam import LangSAM"
      ],
      "metadata": {
        "id": "5MjWRF6dJP-e"
      },
      "execution_count": null,
      "outputs": []
    }
  ]
}